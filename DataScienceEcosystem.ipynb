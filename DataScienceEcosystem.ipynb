{
 "cells": [
  {
   "cell_type": "markdown",
   "id": "9a1d1573",
   "metadata": {},
   "source": [
    "# Data Science Tools and Ecosystem "
   ]
  },
  {
   "cell_type": "markdown",
   "id": "9734d48c",
   "metadata": {},
   "source": [
    "in this notebook we are going to review a summarization of the course Tools for data science "
   ]
  },
  {
   "cell_type": "markdown",
   "id": "fac22062",
   "metadata": {},
   "source": [
    "__Objectives:__\n",
    "* record data science experiments \n",
    "* allow combining text, code blocks and code output in a single file \n",
    "* export the notebook to pdf or html file format "
   ]
  },
  {
   "cell_type": "markdown",
   "id": "c31c1720",
   "metadata": {},
   "source": [
    "Some of the popular languages that Data Scientists use are:\n",
    "1. python \n",
    "2. R\n",
    "3. C++"
   ]
  },
  {
   "cell_type": "markdown",
   "id": "09152fb4",
   "metadata": {},
   "source": [
    "Some of the commonly used libraries used by Data Scientists include:\n",
    "1. scikit learn\n",
    "2. pandas\n",
    "3. numpy\n"
   ]
  },
  {
   "cell_type": "markdown",
   "id": "41462c76",
   "metadata": {},
   "source": [
    "|Data Science Tools|\n",
    "|----------------|\n",
    "|Rstudio|\n",
    "|Apache Spark|\n",
    "|tensorflow|"
   ]
  },
  {
   "cell_type": "markdown",
   "id": "a88acf69",
   "metadata": {},
   "source": [
    "### Below are a few examples of evaluating arithmetic expressions in Python.\n",
    "1+1\n",
    "5*3\n",
    "19-8"
   ]
  },
  {
   "cell_type": "code",
   "execution_count": 13,
   "id": "2d1bff82",
   "metadata": {},
   "outputs": [
    {
     "name": "stdout",
     "output_type": "stream",
     "text": [
      "This a simple arithmetic expression to mutiply then add integers\n"
     ]
    },
    {
     "data": {
      "text/plain": [
       "17"
      ]
     },
     "execution_count": 13,
     "metadata": {},
     "output_type": "execute_result"
    }
   ],
   "source": [
    " print(\"This a simple arithmetic expression to mutiply then add integers\") \n",
    "(3*4)+5"
   ]
  },
  {
   "cell_type": "code",
   "execution_count": 16,
   "id": "784ae206",
   "metadata": {},
   "outputs": [
    {
     "name": "stdout",
     "output_type": "stream",
     "text": [
      "This will convert 200 minutes to hours by diving by 60\n",
      "3.3333333333333335\n"
     ]
    }
   ],
   "source": [
    "print(\"This will convert 200 minutes to hours by diving by 60\")\n",
    "x=200\n",
    "y=x/60\n",
    "print(y)"
   ]
  },
  {
   "cell_type": "markdown",
   "id": "e71bdd38",
   "metadata": {},
   "source": [
    "## Author\n",
    "Mohammed Faroog"
   ]
  }
 ],
 "metadata": {
  "kernelspec": {
   "display_name": "Python 3 (ipykernel)",
   "language": "python",
   "name": "python3"
  },
  "language_info": {
   "codemirror_mode": {
    "name": "ipython",
    "version": 3
   },
   "file_extension": ".py",
   "mimetype": "text/x-python",
   "name": "python",
   "nbconvert_exporter": "python",
   "pygments_lexer": "ipython3",
   "version": "3.11.4"
  }
 },
 "nbformat": 4,
 "nbformat_minor": 5
}
